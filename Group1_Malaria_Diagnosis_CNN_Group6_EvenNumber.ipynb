{
  "cells": [
    {
      "cell_type": "markdown",
      "metadata": {
        "id": "C_hxzrVpanrY"
      },
      "source": [
        "# Deep Learning for Malaria Diagnosis\n",
        "This notebook is inspired by works of (Sivaramakrishnan Rajaraman  et al., 2018) and (Jason Brownlee, 2019). Acknowledge to NIH and Bangalor Hospital who make available this malaria dataset."
      ]
    },
    {
      "cell_type": "markdown",
      "metadata": {
        "id": "4DyHvXlda9rH"
      },
      "source": [
        "Malaria is an infectuous disease caused by parasites that are transmitted to people through the bites of infected female Anopheles mosquitoes.\n",
        "\n",
        "The Malaria burden with some key figures:\n",
        "<font color='red'>\n",
        "* More than 219 million cases\n",
        "* Over 430 000 deaths in 2017 (Mostly: children & pregnants)\n",
        "* 80% in 15 countries of Africa & India\n",
        "  </font>\n",
        "\n",
        "![MalariaBurd](https://github.com/habiboulaye/ai-labs/blob/master/malaria-diagnosis/doc-images/MalariaBurden.png?raw=1)\n",
        "\n",
        "The malaria diagnosis is performed using blood test:\n",
        "* Collect patient blood smear\n",
        "* Microscopic visualisation of the parasit\n",
        "\n",
        "![MalariaDiag](https://github.com/habiboulaye/ai-labs/blob/master/malaria-diagnosis/doc-images/MalariaDiag.png?raw=1)\n",
        "  \n",
        "Main issues related to traditional diagnosis:\n",
        "<font color='#ed7d31'>\n",
        "* resource-constrained regions\n",
        "* time needed and delays\n",
        "* diagnosis accuracy and cost\n",
        "</font>\n",
        "\n",
        "The objective of this notebook is to apply modern deep learning techniques to perform medical image analysis for malaria diagnosis."
      ]
    },
    {
      "cell_type": "markdown",
      "metadata": {
        "id": "a5qBTeqkrJ88"
      },
      "source": [
        "*This notebook is inspired by works of (Sivaramakrishnan Rajaraman  et al., 2018), (Adrian Rosebrock, 2018) and (Jason Brownlee, 2019)*"
      ]
    },
    {
      "cell_type": "markdown",
      "metadata": {
        "id": "4K5rb4bmdMRf"
      },
      "source": [
        "## Configuration"
      ]
    },
    {
      "cell_type": "code",
      "execution_count": null,
      "metadata": {},
      "outputs": [],
      "source": [
        "import os\n",
        "\n",
        "# List directories matching pattern using glob\n",
        "import glob\n",
        "for path in glob.glob(r\"C:\\Users\\ADVANCED TECH\\Google*\"):\n",
        "\tprint(path)\n"
      ]
    },
    {
      "cell_type": "code",
      "execution_count": null,
      "metadata": {
        "colab": {
          "base_uri": "https://localhost:8080/"
        },
        "id": "jxaLbRUnYWTm",
        "outputId": "b7644ed0-e9ae-459c-bf4e-15821dce4aa9"
      },
      "outputs": [
        {
          "name": "stdout",
          "output_type": "stream",
          "text": [
            "{'C:\\\\Users\\\\ADVANCED TECH\\\\Downloads\\\\Google Drive\\\\Colab Notebooks\\\\Projects\\\\malaria-diagnosis'}\n"
          ]
        }
      ],
      "source": [
        "#Mount the local drive project_folder\n",
        "import os\n",
        "drive_path = r\"C:\\Users\\ADVANCED TECH\\Downloads\\Google Drive\\Colab Notebooks\\Projects\\malaria-diagnosis\" \n",
        "\n",
        "if os.path.exists(drive_path):\n",
        "\tprint(os.listdir(drive_path))\n",
        "else:\n",
        "\tprint({drive_path})\n"
      ]
    },
    {
      "cell_type": "code",
      "execution_count": null,
      "metadata": {
        "colab": {
          "base_uri": "https://localhost:8080/"
        },
        "id": "-2KeWDnTWZLJ",
        "outputId": "586b0e1c-f8e9-4c10-e817-0d685852ff66"
      },
      "outputs": [
        {
          "name": "stdout",
          "output_type": "stream",
          "text": [
            "Drive already mounted at /content/drive; to attempt to forcibly remount, call drive.mount(\"/content/drive\", force_remount=True).\n"
          ]
        }
      ],
      "source": [
        "# Local Windows environment - no drive mounting needed\n",
        "print(\"Running on local Windows environment\")"
      ]
    },
    {
      "cell_type": "code",
      "execution_count": null,
      "metadata": {
        "colab": {
          "base_uri": "https://localhost:8080/",
          "height": 182
        },
        "id": "oIfORUX7ccHI",
        "outputId": "7fd5f728-ce31-4ca5-adc2-e5ecd0a63ed6"
      },
      "outputs": [
        {
          "name": "stdout",
          "output_type": "stream",
          "text": [
            "2.20.0\n",
            "2.20.0\n"
          ]
        },
        {
          "name": "stderr",
          "output_type": "stream",
          "text": [
            "\n",
            "[notice] A new release of pip is available: 25.0.1 -> 25.2\n",
            "[notice] To update, run: python.exe -m pip install --upgrade pip\n"
          ]
        },
        {
          "data": {
            "text/plain": [
              "''"
            ]
          },
          "execution_count": 17,
          "metadata": {},
          "output_type": "execute_result"
        }
      ],
      "source": [
        "# Local Windows environment setup\n",
        "# Note: TensorFlow should be installed via: pip install tensorflow\n",
        "\n",
        "import tensorflow as tf\n",
        "from tensorflow import keras\n",
        "from tensorflow.keras import layers\n",
        "import numpy as np\n",
        "\n",
        "print(\"TensorFlow version:\", tf.__version__)\n",
        "\n",
        "# Check for GPU availability\n",
        "print(\"GPU Available: \", tf.config.list_physical_devices('GPU'))\n",
        "if tf.config.list_physical_devices('GPU'):\n",
        "    print(\"GPU device name:\", tf.test.gpu_device_name())\n",
        "else:\n",
        "    print(\"Running on CPU\")"
      ]
    },
    {
      "cell_type": "markdown",
      "metadata": {
        "id": "gp1o6Cd7dV6Z"
      },
      "source": [
        "## Populating namespaces"
      ]
    },
    {
      "cell_type": "code",
      "execution_count": null,
      "metadata": {
        "id": "_4Ph8e1uojEC"
      },
      "outputs": [],
      "source": [
        "# Importing basic libraries\n",
        "import os\n",
        "import random\n",
        "import shutil\n",
        "from matplotlib import pyplot\n",
        "from matplotlib.image import imread\n",
        "%matplotlib inline\n",
        "\n",
        "# Importing the Keras libraries and packages\n",
        "from tensorflow.keras.models import Sequential\n",
        "from tensorflow.keras.layers import Convolution2D as Conv2D\n",
        "from tensorflow.keras.layers import MaxPooling2D\n",
        "from tensorflow.keras.layers import Flatten\n",
        "from tensorflow.keras.layers import Dense\n",
        "\n",
        "\n"
      ]
    },
    {
      "cell_type": "code",
      "execution_count": null,
      "metadata": {
        "id": "SOvmLtdRgSIb"
      },
      "outputs": [],
      "source": [
        "# Define the useful paths for data accessibility\n",
        "ai_project = r\"C:\\Users\\ADVANCED TECH\\Downloads\\Google Drive\\Colab Notebooks\\Projects\\malaria-diagnosis\" #\"/content/drive/My Drive/Colab Notebooks (1)/ai-labs/malaria-diagnosis\"\n",
        "cell_images_dir = os.path.join(ai_project,'cell_images')\n",
        "training_path = os.path.join(ai_project,'train')\n",
        "testing_path = os.path.join(ai_project,'test')"
      ]
    },
    {
      "cell_type": "markdown",
      "metadata": {
        "id": "11DKlCJcj31w"
      },
      "source": [
        "## Prepare DataSet"
      ]
    },
    {
      "cell_type": "markdown",
      "metadata": {
        "id": "midATIuUq7H7"
      },
      "source": [
        "### *Download* DataSet"
      ]
    },
    {
      "cell_type": "code",
      "execution_count": null,
      "metadata": {
        "id": "eCT2ogQdeHPW"
      },
      "outputs": [
        {
          "name": "stdout",
          "output_type": "stream",
          "text": [
            "Downloading data to: C:\\Users\\ADVANCED TECH\\Downloads\\Google Drive\\Colab Notebooks\\Projects\\malaria-diagnosis\\cell_images.zip\n",
            "Files in project directory:\n",
            "['cell_images']\n",
            "Files in project directory:\n",
            "['cell_images']\n"
          ]
        }
      ],
      "source": [
        "import subprocess\n",
        "import urllib.request\n",
        "import zipfile\n",
        "import os\n",
        "\n",
        "# Download the data locally. If already downloaded, turn downloadData=False\n",
        "downloadData = False  # Data already downloaded\n",
        "if downloadData == True:\n",
        "    # Local Windows environment\n",
        "    data_url = \"https://data.lhncbc.nlm.nih.gov/public/Malaria/cell_images.zip\"\n",
        "    local_zip_path = os.path.join(ai_project, \"cell_images.zip\")\n",
        "    \n",
        "    print(f\"Downloading data to: {local_zip_path}\")\n",
        "    \n",
        "    # Create directory if it doesn't exist\n",
        "    os.makedirs(ai_project, exist_ok=True)\n",
        "    \n",
        "    # Download using urllib\n",
        "    urllib.request.urlretrieve(data_url, local_zip_path)\n",
        "    \n",
        "    # Extract the zip file\n",
        "    with zipfile.ZipFile(local_zip_path, 'r') as zip_ref:\n",
        "        zip_ref.extractall(ai_project)\n",
        "    \n",
        "    # Clean up zip file\n",
        "    os.remove(local_zip_path)\n",
        "    \n",
        "    # List files in the directory\n",
        "    print(\"Files in project directory:\")\n",
        "    print(os.listdir(ai_project))\n",
        "else:\n",
        "    print(\"Data download skipped. Dataset already available.\")"
      ]
    },
    {
      "cell_type": "markdown",
      "metadata": {
        "id": "D1LUJGE9U2vW"
      },
      "source": [
        "## Baseline CNN Model\n",
        "Define a basic ConvNet defined with ConvLayer: Conv2D => MaxPooling2D followed by Flatten => Dense => Dense(output)\n",
        "\n",
        "![ConvNet](https://github.com/habiboulaye/ai-labs/blob/master/malaria-diagnosis/doc-images/ConvNet.png?raw=1)\n"
      ]
    },
    {
      "cell_type": "markdown",
      "metadata": {
        "id": "Jd-3b-cxI7Bl"
      },
      "source": [
        "Training"
      ]
    },
    {
      "cell_type": "code",
      "execution_count": 8,
      "metadata": {
        "id": "ai7bFI-v2Gij"
      },
      "outputs": [
        {
          "name": "stdout",
          "output_type": "stream",
          "text": [
            "TF version: 2.20.0\n",
            "Using DATA_DIR: C:\\Users\\ADVANCED TECH\\Downloads\\Google Drive\\Colab Notebooks\\Projects\\malaria-diagnosis\\cell_images\n",
            "DATA_DIR exists: True\n",
            "Found 27558 files belonging to 2 classes.\n",
            "Found 27558 files belonging to 2 classes.\n",
            "Using 19291 files for training.\n",
            "Using 19291 files for training.\n",
            "Found 27558 files belonging to 2 classes.\n",
            "Found 27558 files belonging to 2 classes.\n",
            "Using 8267 files for validation.\n",
            "Using 8267 files for validation.\n",
            "Classes: ['Parasitized', 'Uninfected']\n",
            "Classes: ['Parasitized', 'Uninfected']\n"
          ]
        },
        {
          "data": {
            "text/html": [
              "<pre style=\"white-space:pre;overflow-x:auto;line-height:normal;font-family:Menlo,'DejaVu Sans Mono',consolas,'Courier New',monospace\"><span style=\"font-weight: bold\">Model: \"functional\"</span>\n",
              "</pre>\n"
            ],
            "text/plain": [
              "\u001b[1mModel: \"functional\"\u001b[0m\n"
            ]
          },
          "metadata": {},
          "output_type": "display_data"
        },
        {
          "data": {
            "text/html": [
              "<pre style=\"white-space:pre;overflow-x:auto;line-height:normal;font-family:Menlo,'DejaVu Sans Mono',consolas,'Courier New',monospace\">┏━━━━━━━━━━━━━━━━━━━━━━━━━━━━━━━━━┳━━━━━━━━━━━━━━━━━━━━━━━━┳━━━━━━━━━━━━━━━┓\n",
              "┃<span style=\"font-weight: bold\"> Layer (type)                    </span>┃<span style=\"font-weight: bold\"> Output Shape           </span>┃<span style=\"font-weight: bold\">       Param # </span>┃\n",
              "┡━━━━━━━━━━━━━━━━━━━━━━━━━━━━━━━━━╇━━━━━━━━━━━━━━━━━━━━━━━━╇━━━━━━━━━━━━━━━┩\n",
              "│ input_layer (<span style=\"color: #0087ff; text-decoration-color: #0087ff\">InputLayer</span>)        │ (<span style=\"color: #00d7ff; text-decoration-color: #00d7ff\">None</span>, <span style=\"color: #00af00; text-decoration-color: #00af00\">84</span>, <span style=\"color: #00af00; text-decoration-color: #00af00\">84</span>, <span style=\"color: #00af00; text-decoration-color: #00af00\">3</span>)      │             <span style=\"color: #00af00; text-decoration-color: #00af00\">0</span> │\n",
              "├─────────────────────────────────┼────────────────────────┼───────────────┤\n",
              "│ rescaling (<span style=\"color: #0087ff; text-decoration-color: #0087ff\">Rescaling</span>)           │ (<span style=\"color: #00d7ff; text-decoration-color: #00d7ff\">None</span>, <span style=\"color: #00af00; text-decoration-color: #00af00\">84</span>, <span style=\"color: #00af00; text-decoration-color: #00af00\">84</span>, <span style=\"color: #00af00; text-decoration-color: #00af00\">3</span>)      │             <span style=\"color: #00af00; text-decoration-color: #00af00\">0</span> │\n",
              "├─────────────────────────────────┼────────────────────────┼───────────────┤\n",
              "│ conv2d (<span style=\"color: #0087ff; text-decoration-color: #0087ff\">Conv2D</span>)                 │ (<span style=\"color: #00d7ff; text-decoration-color: #00d7ff\">None</span>, <span style=\"color: #00af00; text-decoration-color: #00af00\">84</span>, <span style=\"color: #00af00; text-decoration-color: #00af00\">84</span>, <span style=\"color: #00af00; text-decoration-color: #00af00\">16</span>)     │           <span style=\"color: #00af00; text-decoration-color: #00af00\">448</span> │\n",
              "├─────────────────────────────────┼────────────────────────┼───────────────┤\n",
              "│ max_pooling2d (<span style=\"color: #0087ff; text-decoration-color: #0087ff\">MaxPooling2D</span>)    │ (<span style=\"color: #00d7ff; text-decoration-color: #00d7ff\">None</span>, <span style=\"color: #00af00; text-decoration-color: #00af00\">42</span>, <span style=\"color: #00af00; text-decoration-color: #00af00\">42</span>, <span style=\"color: #00af00; text-decoration-color: #00af00\">16</span>)     │             <span style=\"color: #00af00; text-decoration-color: #00af00\">0</span> │\n",
              "├─────────────────────────────────┼────────────────────────┼───────────────┤\n",
              "│ conv2d_1 (<span style=\"color: #0087ff; text-decoration-color: #0087ff\">Conv2D</span>)               │ (<span style=\"color: #00d7ff; text-decoration-color: #00d7ff\">None</span>, <span style=\"color: #00af00; text-decoration-color: #00af00\">42</span>, <span style=\"color: #00af00; text-decoration-color: #00af00\">42</span>, <span style=\"color: #00af00; text-decoration-color: #00af00\">32</span>)     │         <span style=\"color: #00af00; text-decoration-color: #00af00\">4,640</span> │\n",
              "├─────────────────────────────────┼────────────────────────┼───────────────┤\n",
              "│ max_pooling2d_1 (<span style=\"color: #0087ff; text-decoration-color: #0087ff\">MaxPooling2D</span>)  │ (<span style=\"color: #00d7ff; text-decoration-color: #00d7ff\">None</span>, <span style=\"color: #00af00; text-decoration-color: #00af00\">21</span>, <span style=\"color: #00af00; text-decoration-color: #00af00\">21</span>, <span style=\"color: #00af00; text-decoration-color: #00af00\">32</span>)     │             <span style=\"color: #00af00; text-decoration-color: #00af00\">0</span> │\n",
              "├─────────────────────────────────┼────────────────────────┼───────────────┤\n",
              "│ flatten (<span style=\"color: #0087ff; text-decoration-color: #0087ff\">Flatten</span>)               │ (<span style=\"color: #00d7ff; text-decoration-color: #00d7ff\">None</span>, <span style=\"color: #00af00; text-decoration-color: #00af00\">14112</span>)          │             <span style=\"color: #00af00; text-decoration-color: #00af00\">0</span> │\n",
              "├─────────────────────────────────┼────────────────────────┼───────────────┤\n",
              "│ dense (<span style=\"color: #0087ff; text-decoration-color: #0087ff\">Dense</span>)                   │ (<span style=\"color: #00d7ff; text-decoration-color: #00d7ff\">None</span>, <span style=\"color: #00af00; text-decoration-color: #00af00\">64</span>)             │       <span style=\"color: #00af00; text-decoration-color: #00af00\">903,232</span> │\n",
              "├─────────────────────────────────┼────────────────────────┼───────────────┤\n",
              "│ dense_1 (<span style=\"color: #0087ff; text-decoration-color: #0087ff\">Dense</span>)                 │ (<span style=\"color: #00d7ff; text-decoration-color: #00d7ff\">None</span>, <span style=\"color: #00af00; text-decoration-color: #00af00\">1</span>)              │            <span style=\"color: #00af00; text-decoration-color: #00af00\">65</span> │\n",
              "└─────────────────────────────────┴────────────────────────┴───────────────┘\n",
              "</pre>\n"
            ],
            "text/plain": [
              "┏━━━━━━━━━━━━━━━━━━━━━━━━━━━━━━━━━┳━━━━━━━━━━━━━━━━━━━━━━━━┳━━━━━━━━━━━━━━━┓\n",
              "┃\u001b[1m \u001b[0m\u001b[1mLayer (type)                   \u001b[0m\u001b[1m \u001b[0m┃\u001b[1m \u001b[0m\u001b[1mOutput Shape          \u001b[0m\u001b[1m \u001b[0m┃\u001b[1m \u001b[0m\u001b[1m      Param #\u001b[0m\u001b[1m \u001b[0m┃\n",
              "┡━━━━━━━━━━━━━━━━━━━━━━━━━━━━━━━━━╇━━━━━━━━━━━━━━━━━━━━━━━━╇━━━━━━━━━━━━━━━┩\n",
              "│ input_layer (\u001b[38;5;33mInputLayer\u001b[0m)        │ (\u001b[38;5;45mNone\u001b[0m, \u001b[38;5;34m84\u001b[0m, \u001b[38;5;34m84\u001b[0m, \u001b[38;5;34m3\u001b[0m)      │             \u001b[38;5;34m0\u001b[0m │\n",
              "├─────────────────────────────────┼────────────────────────┼───────────────┤\n",
              "│ rescaling (\u001b[38;5;33mRescaling\u001b[0m)           │ (\u001b[38;5;45mNone\u001b[0m, \u001b[38;5;34m84\u001b[0m, \u001b[38;5;34m84\u001b[0m, \u001b[38;5;34m3\u001b[0m)      │             \u001b[38;5;34m0\u001b[0m │\n",
              "├─────────────────────────────────┼────────────────────────┼───────────────┤\n",
              "│ conv2d (\u001b[38;5;33mConv2D\u001b[0m)                 │ (\u001b[38;5;45mNone\u001b[0m, \u001b[38;5;34m84\u001b[0m, \u001b[38;5;34m84\u001b[0m, \u001b[38;5;34m16\u001b[0m)     │           \u001b[38;5;34m448\u001b[0m │\n",
              "├─────────────────────────────────┼────────────────────────┼───────────────┤\n",
              "│ max_pooling2d (\u001b[38;5;33mMaxPooling2D\u001b[0m)    │ (\u001b[38;5;45mNone\u001b[0m, \u001b[38;5;34m42\u001b[0m, \u001b[38;5;34m42\u001b[0m, \u001b[38;5;34m16\u001b[0m)     │             \u001b[38;5;34m0\u001b[0m │\n",
              "├─────────────────────────────────┼────────────────────────┼───────────────┤\n",
              "│ conv2d_1 (\u001b[38;5;33mConv2D\u001b[0m)               │ (\u001b[38;5;45mNone\u001b[0m, \u001b[38;5;34m42\u001b[0m, \u001b[38;5;34m42\u001b[0m, \u001b[38;5;34m32\u001b[0m)     │         \u001b[38;5;34m4,640\u001b[0m │\n",
              "├─────────────────────────────────┼────────────────────────┼───────────────┤\n",
              "│ max_pooling2d_1 (\u001b[38;5;33mMaxPooling2D\u001b[0m)  │ (\u001b[38;5;45mNone\u001b[0m, \u001b[38;5;34m21\u001b[0m, \u001b[38;5;34m21\u001b[0m, \u001b[38;5;34m32\u001b[0m)     │             \u001b[38;5;34m0\u001b[0m │\n",
              "├─────────────────────────────────┼────────────────────────┼───────────────┤\n",
              "│ flatten (\u001b[38;5;33mFlatten\u001b[0m)               │ (\u001b[38;5;45mNone\u001b[0m, \u001b[38;5;34m14112\u001b[0m)          │             \u001b[38;5;34m0\u001b[0m │\n",
              "├─────────────────────────────────┼────────────────────────┼───────────────┤\n",
              "│ dense (\u001b[38;5;33mDense\u001b[0m)                   │ (\u001b[38;5;45mNone\u001b[0m, \u001b[38;5;34m64\u001b[0m)             │       \u001b[38;5;34m903,232\u001b[0m │\n",
              "├─────────────────────────────────┼────────────────────────┼───────────────┤\n",
              "│ dense_1 (\u001b[38;5;33mDense\u001b[0m)                 │ (\u001b[38;5;45mNone\u001b[0m, \u001b[38;5;34m1\u001b[0m)              │            \u001b[38;5;34m65\u001b[0m │\n",
              "└─────────────────────────────────┴────────────────────────┴───────────────┘\n"
            ]
          },
          "metadata": {},
          "output_type": "display_data"
        },
        {
          "data": {
            "text/html": [
              "<pre style=\"white-space:pre;overflow-x:auto;line-height:normal;font-family:Menlo,'DejaVu Sans Mono',consolas,'Courier New',monospace\"><span style=\"font-weight: bold\"> Total params: </span><span style=\"color: #00af00; text-decoration-color: #00af00\">908,385</span> (3.47 MB)\n",
              "</pre>\n"
            ],
            "text/plain": [
              "\u001b[1m Total params: \u001b[0m\u001b[38;5;34m908,385\u001b[0m (3.47 MB)\n"
            ]
          },
          "metadata": {},
          "output_type": "display_data"
        },
        {
          "data": {
            "text/html": [
              "<pre style=\"white-space:pre;overflow-x:auto;line-height:normal;font-family:Menlo,'DejaVu Sans Mono',consolas,'Courier New',monospace\"><span style=\"font-weight: bold\"> Trainable params: </span><span style=\"color: #00af00; text-decoration-color: #00af00\">908,385</span> (3.47 MB)\n",
              "</pre>\n"
            ],
            "text/plain": [
              "\u001b[1m Trainable params: \u001b[0m\u001b[38;5;34m908,385\u001b[0m (3.47 MB)\n"
            ]
          },
          "metadata": {},
          "output_type": "display_data"
        },
        {
          "data": {
            "text/html": [
              "<pre style=\"white-space:pre;overflow-x:auto;line-height:normal;font-family:Menlo,'DejaVu Sans Mono',consolas,'Courier New',monospace\"><span style=\"font-weight: bold\"> Non-trainable params: </span><span style=\"color: #00af00; text-decoration-color: #00af00\">0</span> (0.00 B)\n",
              "</pre>\n"
            ],
            "text/plain": [
              "\u001b[1m Non-trainable params: \u001b[0m\u001b[38;5;34m0\u001b[0m (0.00 B)\n"
            ]
          },
          "metadata": {},
          "output_type": "display_data"
        },
        {
          "name": "stdout",
          "output_type": "stream",
          "text": [
            "Epoch 1/8\n",
            "\n",
            "Epoch 1: val_accuracy improved from None to 0.88480, saving model to C:\\Users\\ADVANCED TECH\\Downloads\\Group1-Malaria-Diagnosis-CNN\\experiments\\E0_tfdata_baseline_adam_lr1e-3_b4\\best.weights.h5\n",
            "\n",
            "Epoch 1: val_accuracy improved from None to 0.88480, saving model to C:\\Users\\ADVANCED TECH\\Downloads\\Group1-Malaria-Diagnosis-CNN\\experiments\\E0_tfdata_baseline_adam_lr1e-3_b4\\best.weights.h5\n",
            "4823/4823 - 633s - 131ms/step - accuracy: 0.8409 - auc: 0.9244 - loss: 0.3561 - val_accuracy: 0.8848 - val_auc: 0.9717 - val_loss: 0.2796\n",
            "Epoch 2/8\n",
            "4823/4823 - 633s - 131ms/step - accuracy: 0.8409 - auc: 0.9244 - loss: 0.3561 - val_accuracy: 0.8848 - val_auc: 0.9717 - val_loss: 0.2796\n",
            "Epoch 2/8\n",
            "\n",
            "Epoch 2: val_accuracy improved from 0.88480 to 0.92280, saving model to C:\\Users\\ADVANCED TECH\\Downloads\\Group1-Malaria-Diagnosis-CNN\\experiments\\E0_tfdata_baseline_adam_lr1e-3_b4\\best.weights.h5\n",
            "\n",
            "Epoch 2: val_accuracy improved from 0.88480 to 0.92280, saving model to C:\\Users\\ADVANCED TECH\\Downloads\\Group1-Malaria-Diagnosis-CNN\\experiments\\E0_tfdata_baseline_adam_lr1e-3_b4\\best.weights.h5\n",
            "4823/4823 - 110s - 23ms/step - accuracy: 0.9325 - auc: 0.9713 - loss: 0.2056 - val_accuracy: 0.9228 - val_auc: 0.9618 - val_loss: 0.2320\n",
            "Epoch 3/8\n",
            "4823/4823 - 110s - 23ms/step - accuracy: 0.9325 - auc: 0.9713 - loss: 0.2056 - val_accuracy: 0.9228 - val_auc: 0.9618 - val_loss: 0.2320\n",
            "Epoch 3/8\n",
            "\n",
            "Epoch 3: val_accuracy improved from 0.92280 to 0.94966, saving model to C:\\Users\\ADVANCED TECH\\Downloads\\Group1-Malaria-Diagnosis-CNN\\experiments\\E0_tfdata_baseline_adam_lr1e-3_b4\\best.weights.h5\n",
            "\n",
            "Epoch 3: val_accuracy improved from 0.92280 to 0.94966, saving model to C:\\Users\\ADVANCED TECH\\Downloads\\Group1-Malaria-Diagnosis-CNN\\experiments\\E0_tfdata_baseline_adam_lr1e-3_b4\\best.weights.h5\n",
            "4823/4823 - 113s - 24ms/step - accuracy: 0.9433 - auc: 0.9786 - loss: 0.1750 - val_accuracy: 0.9497 - val_auc: 0.9814 - val_loss: 0.1718\n",
            "Epoch 4/8\n",
            "4823/4823 - 113s - 24ms/step - accuracy: 0.9433 - auc: 0.9786 - loss: 0.1750 - val_accuracy: 0.9497 - val_auc: 0.9814 - val_loss: 0.1718\n",
            "Epoch 4/8\n",
            "\n",
            "Epoch 4: val_accuracy did not improve from 0.94966\n",
            "4823/4823 - 142s - 29ms/step - accuracy: 0.9542 - auc: 0.9866 - loss: 0.1365 - val_accuracy: 0.9458 - val_auc: 0.9817 - val_loss: 0.1745\n",
            "\n",
            "Epoch 4: val_accuracy did not improve from 0.94966\n",
            "4823/4823 - 142s - 29ms/step - accuracy: 0.9542 - auc: 0.9866 - loss: 0.1365 - val_accuracy: 0.9458 - val_auc: 0.9817 - val_loss: 0.1745\n",
            "Epoch 5/8\n",
            "Epoch 5/8\n",
            "\n",
            "Epoch 5: val_accuracy did not improve from 0.94966\n",
            "4823/4823 - 131s - 27ms/step - accuracy: 0.9616 - auc: 0.9907 - loss: 0.1128 - val_accuracy: 0.9465 - val_auc: 0.9785 - val_loss: 0.1724\n",
            "\n",
            "Epoch 5: val_accuracy did not improve from 0.94966\n",
            "4823/4823 - 131s - 27ms/step - accuracy: 0.9616 - auc: 0.9907 - loss: 0.1128 - val_accuracy: 0.9465 - val_auc: 0.9785 - val_loss: 0.1724\n",
            "Epoch 6/8\n",
            "Epoch 6/8\n",
            "\n",
            "Epoch 6: val_accuracy did not improve from 0.94966\n",
            "4823/4823 - 125s - 26ms/step - accuracy: 0.9685 - auc: 0.9941 - loss: 0.0888 - val_accuracy: 0.9446 - val_auc: 0.9795 - val_loss: 0.1976\n",
            "\n",
            "Epoch 6: val_accuracy did not improve from 0.94966\n",
            "4823/4823 - 125s - 26ms/step - accuracy: 0.9685 - auc: 0.9941 - loss: 0.0888 - val_accuracy: 0.9446 - val_auc: 0.9795 - val_loss: 0.1976\n",
            "Epoch 6: early stopping\n",
            "Restoring model weights from the end of the best epoch: 3.\n",
            "Epoch 6: early stopping\n",
            "Restoring model weights from the end of the best epoch: 3.\n",
            "\n",
            "Test — Loss: 0.1533 | Acc: 0.9572 | AUC: 0.9846\n",
            "Saved weights & logs to: C:\\Users\\ADVANCED TECH\\Downloads\\Group1-Malaria-Diagnosis-CNN\\experiments\\E0_tfdata_baseline_adam_lr1e-3_b4\n",
            "\n",
            "Test — Loss: 0.1533 | Acc: 0.9572 | AUC: 0.9846\n",
            "Saved weights & logs to: C:\\Users\\ADVANCED TECH\\Downloads\\Group1-Malaria-Diagnosis-CNN\\experiments\\E0_tfdata_baseline_adam_lr1e-3_b4\n"
          ]
        }
      ],
      "source": [
        "# === Redoing training using TensorFlow's image_dataset_from_directory (tf.data) ===\n",
        "# Single self-contained cell: locate data -> load -> split -> build -> train -> evaluate\n",
        "\n",
        "# 1) Setup\n",
        "import os, json, random, datetime\n",
        "from pathlib import Path\n",
        "import tensorflow as tf\n",
        "from tensorflow.keras import layers, models, callbacks, optimizers\n",
        "\n",
        "print(\"TF version:\", tf.__version__)\n",
        "SEED = 42\n",
        "AUTOTUNE = tf.data.AUTOTUNE\n",
        "IMG_SIZE = (84, 84)\n",
        "BATCH = 4\n",
        "\n",
        "# 2) Locate the dataset folder robustly\n",
        "EXPECTED_CLASSES = {\"Parasitized\", \"Uninfected\"}\n",
        "\n",
        "# Hints to search (add any others you like)\n",
        "HINT_ROOTS = [\n",
        "    Path(r\"C:\\Users\\ADVANCED TECH\\Downloads\\Google Drive\\Colab Notebooks\\Projects\\malaria-diagnosis\"),\n",
        "    Path(r\"C:\\Users\\ADVANCED TECH\\Downloads\\Google Drive\\Colab Notebooks\\ai-labs\\malaria-diagnosis\"),\n",
        "    Path(r\"C:\\Users\\ADVANCED TECH\\Google Drive\"),\n",
        "    Path(r\"C:\\Users\\ADVANCED TECH\\Downloads\"),\n",
        "    Path.home() / \"Downloads\",\n",
        "    Path(r\"G:\\My Drive\"),  # Google Drive for Desktop default\n",
        "]\n",
        "\n",
        "def find_cell_images(roots):\n",
        "    for base in roots:\n",
        "        if not base.exists():\n",
        "            continue\n",
        "        # Try an exact child first\n",
        "        direct = base / \"cell_images\"\n",
        "        candidates = [direct] if direct.exists() else list(base.rglob(\"cell_images\"))\n",
        "        for c in candidates:\n",
        "            if c.is_dir():\n",
        "                subdirs = {d.name for d in c.iterdir() if d.is_dir()}\n",
        "                if EXPECTED_CLASSES.issubset(subdirs):\n",
        "                    return c.resolve()\n",
        "    return None\n",
        "\n",
        "DATA_DIR = find_cell_images(HINT_ROOTS)\n",
        "if DATA_DIR is None:\n",
        "    raise FileNotFoundError(\n",
        "        \"Could not find a folder named 'cell_images' containing 'Parasitized' and 'Uninfected' \"\n",
        "        \"under any of these roots:\\n\" + \"\\n\".join(str(p) for p in HINT_ROOTS)\n",
        "    )\n",
        "\n",
        "print(f\"Using DATA_DIR: {DATA_DIR}\")\n",
        "print(f\"DATA_DIR exists: {DATA_DIR.exists()}\")\n",
        "\n",
        "# Experiment output directory\n",
        "EXP_DIR = Path(r\"C:\\Users\\ADVANCED TECH\\Downloads\\Group1-Malaria-Diagnosis-CNN\\experiments\")\n",
        "EXP_DIR.mkdir(parents=True, exist_ok=True)\n",
        "\n",
        "# 3) Load datasets with image_dataset_from_directory\n",
        "train_ds = tf.keras.utils.image_dataset_from_directory(\n",
        "    DATA_DIR,\n",
        "    labels=\"inferred\",\n",
        "    label_mode=\"binary\",\n",
        "    validation_split=0.30,   # 70% train, 30% remainder\n",
        "    subset=\"training\",\n",
        "    seed=SEED,\n",
        "    image_size=IMG_SIZE,\n",
        "    batch_size=BATCH,\n",
        "    shuffle=True\n",
        ")\n",
        "\n",
        "valtest_ds = tf.keras.utils.image_dataset_from_directory(\n",
        "    DATA_DIR,\n",
        "    labels=\"inferred\",\n",
        "    label_mode=\"binary\",\n",
        "    validation_split=0.30,\n",
        "    subset=\"validation\",\n",
        "    seed=SEED,\n",
        "    image_size=IMG_SIZE,\n",
        "    batch_size=BATCH,\n",
        "    shuffle=True\n",
        ")\n",
        "\n",
        "class_names = train_ds.class_names\n",
        "print(\"Classes:\", class_names)\n",
        "\n",
        "# Split the 30% remainder evenly into 15% val + 15% test\n",
        "num_batches = tf.data.experimental.cardinality(valtest_ds).numpy()\n",
        "assert num_batches > 0, \"No batches in val/test split.\"\n",
        "val_batches = num_batches // 2\n",
        "ds_val  = valtest_ds.take(val_batches)\n",
        "ds_test = valtest_ds.skip(val_batches)\n",
        "\n",
        "# Optional performance tuning\n",
        "def prepare(ds, cache=True, shuffle=False):\n",
        "    if cache:\n",
        "        ds = ds.cache()\n",
        "    if shuffle:\n",
        "        ds = ds.shuffle(1000, seed=SEED, reshuffle_each_iteration=True)\n",
        "    return ds.prefetch(AUTOTUNE)\n",
        "\n",
        "train_ds = prepare(train_ds, cache=False, shuffle=True)  # avoid caching large set if RAM is tight\n",
        "ds_val   = prepare(ds_val)\n",
        "ds_test  = prepare(ds_test)\n",
        "\n",
        "# 4) Build baseline CNN\n",
        "def build_baseline(input_shape=(84,84,3)):\n",
        "    inputs = layers.Input(shape=input_shape)\n",
        "    x = layers.Rescaling(1./255)(inputs)\n",
        "    x = layers.Conv2D(16, 3, padding=\"same\", activation=\"relu\")(x)\n",
        "    x = layers.MaxPooling2D()(x)\n",
        "    x = layers.Conv2D(32, 3, padding=\"same\", activation=\"relu\")(x)\n",
        "    x = layers.MaxPooling2D()(x)\n",
        "    x = layers.Flatten()(x)\n",
        "    x = layers.Dense(64, activation=\"relu\")(x)\n",
        "    outputs = layers.Dense(1, activation=\"sigmoid\")(x)\n",
        "    return models.Model(inputs, outputs)\n",
        "\n",
        "model = build_baseline(input_shape=(IMG_SIZE[0], IMG_SIZE[1], 3))\n",
        "model.compile(\n",
        "    optimizer=optimizers.Adam(),\n",
        "    loss=\"binary_crossentropy\",\n",
        "    metrics=[\"accuracy\", tf.keras.metrics.AUC(name=\"auc\")]\n",
        ")\n",
        "model.summary()\n",
        "\n",
        "# 5) Train\n",
        "exp_name = f\"E0_tfdata_baseline_adam_lr1e-3_b{BATCH}\"\n",
        "out_dir = EXP_DIR / exp_name\n",
        "out_dir.mkdir(parents=True, exist_ok=True)\n",
        "\n",
        "ckpt = callbacks.ModelCheckpoint(\n",
        "    filepath=str(out_dir / \"best.weights.h5\"),\n",
        "    monitor=\"val_accuracy\",\n",
        "    save_best_only=True,\n",
        "    save_weights_only=True,\n",
        "    mode=\"max\",\n",
        "    verbose=1\n",
        ")\n",
        "early = callbacks.EarlyStopping(\n",
        "    monitor=\"val_accuracy\",\n",
        "    patience=3,\n",
        "    mode=\"max\",\n",
        "    restore_best_weights=True,\n",
        "    verbose=1\n",
        ")\n",
        "\n",
        "history = model.fit(\n",
        "    train_ds,\n",
        "    validation_data=ds_val,\n",
        "    epochs=8,\n",
        "    callbacks=[ckpt, early],\n",
        "    verbose=2\n",
        ")\n",
        "\n",
        "# 6) Evaluate on test\n",
        "test_loss, test_acc, test_auc = model.evaluate(ds_test, verbose=0)\n",
        "print(f\"\\nTest — Loss: {test_loss:.4f} | Acc: {test_acc:.4f} | AUC: {test_auc:.4f}\")\n",
        "\n",
        "# Save minimal metadata\n",
        "with open(out_dir/\"config.json\", \"w\") as f:\n",
        "    json.dump({\n",
        "        \"img_size\": IMG_SIZE, \"batch\": BATCH, \"epochs\": 8,\n",
        "        \"optimizer\": \"adam\", \"lr\": 1e-3,\n",
        "        \"loader\": \"image_dataset_from_directory\", \"split\": \"70/15/15 via 70/30 then take/skip\",\n",
        "        \"data_dir\": str(DATA_DIR)\n",
        "    }, f, indent=2)\n",
        "with open(out_dir/\"test_results.json\", \"w\") as f:\n",
        "    json.dump({\"loss\": float(test_loss), \"accuracy\": float(test_acc), \"auc\": float(test_auc)}, f, indent=2)\n",
        "\n",
        "print(f\"Saved weights & logs to: {out_dir}\")\n"
      ]
    },
    {
      "cell_type": "code",
      "execution_count": 12,
      "metadata": {
        "id": "7f4d7da2"
      },
      "outputs": [
        {
          "data": {
            "text/html": [
              "<pre style=\"white-space:pre;overflow-x:auto;line-height:normal;font-family:Menlo,'DejaVu Sans Mono',consolas,'Courier New',monospace\"><span style=\"font-weight: bold\">Model: \"functional_4\"</span>\n",
              "</pre>\n"
            ],
            "text/plain": [
              "\u001b[1mModel: \"functional_4\"\u001b[0m\n"
            ]
          },
          "metadata": {},
          "output_type": "display_data"
        },
        {
          "data": {
            "text/html": [
              "<pre style=\"white-space:pre;overflow-x:auto;line-height:normal;font-family:Menlo,'DejaVu Sans Mono',consolas,'Courier New',monospace\">┏━━━━━━━━━━━━━━━━━━━━━━━━━━━━━━━━━┳━━━━━━━━━━━━━━━━━━━━━━━━┳━━━━━━━━━━━━━━━┓\n",
              "┃<span style=\"font-weight: bold\"> Layer (type)                    </span>┃<span style=\"font-weight: bold\"> Output Shape           </span>┃<span style=\"font-weight: bold\">       Param # </span>┃\n",
              "┡━━━━━━━━━━━━━━━━━━━━━━━━━━━━━━━━━╇━━━━━━━━━━━━━━━━━━━━━━━━╇━━━━━━━━━━━━━━━┩\n",
              "│ input_layer_4 (<span style=\"color: #0087ff; text-decoration-color: #0087ff\">InputLayer</span>)      │ (<span style=\"color: #00d7ff; text-decoration-color: #00d7ff\">None</span>, <span style=\"color: #00af00; text-decoration-color: #00af00\">84</span>, <span style=\"color: #00af00; text-decoration-color: #00af00\">84</span>, <span style=\"color: #00af00; text-decoration-color: #00af00\">3</span>)      │             <span style=\"color: #00af00; text-decoration-color: #00af00\">0</span> │\n",
              "├─────────────────────────────────┼────────────────────────┼───────────────┤\n",
              "│ rescaling_4 (<span style=\"color: #0087ff; text-decoration-color: #0087ff\">Rescaling</span>)         │ (<span style=\"color: #00d7ff; text-decoration-color: #00d7ff\">None</span>, <span style=\"color: #00af00; text-decoration-color: #00af00\">84</span>, <span style=\"color: #00af00; text-decoration-color: #00af00\">84</span>, <span style=\"color: #00af00; text-decoration-color: #00af00\">3</span>)      │             <span style=\"color: #00af00; text-decoration-color: #00af00\">0</span> │\n",
              "├─────────────────────────────────┼────────────────────────┼───────────────┤\n",
              "│ conv2d_8 (<span style=\"color: #0087ff; text-decoration-color: #0087ff\">Conv2D</span>)               │ (<span style=\"color: #00d7ff; text-decoration-color: #00d7ff\">None</span>, <span style=\"color: #00af00; text-decoration-color: #00af00\">84</span>, <span style=\"color: #00af00; text-decoration-color: #00af00\">84</span>, <span style=\"color: #00af00; text-decoration-color: #00af00\">32</span>)     │           <span style=\"color: #00af00; text-decoration-color: #00af00\">896</span> │\n",
              "├─────────────────────────────────┼────────────────────────┼───────────────┤\n",
              "│ max_pooling2d_8 (<span style=\"color: #0087ff; text-decoration-color: #0087ff\">MaxPooling2D</span>)  │ (<span style=\"color: #00d7ff; text-decoration-color: #00d7ff\">None</span>, <span style=\"color: #00af00; text-decoration-color: #00af00\">42</span>, <span style=\"color: #00af00; text-decoration-color: #00af00\">42</span>, <span style=\"color: #00af00; text-decoration-color: #00af00\">32</span>)     │             <span style=\"color: #00af00; text-decoration-color: #00af00\">0</span> │\n",
              "├─────────────────────────────────┼────────────────────────┼───────────────┤\n",
              "│ conv2d_9 (<span style=\"color: #0087ff; text-decoration-color: #0087ff\">Conv2D</span>)               │ (<span style=\"color: #00d7ff; text-decoration-color: #00d7ff\">None</span>, <span style=\"color: #00af00; text-decoration-color: #00af00\">42</span>, <span style=\"color: #00af00; text-decoration-color: #00af00\">42</span>, <span style=\"color: #00af00; text-decoration-color: #00af00\">64</span>)     │        <span style=\"color: #00af00; text-decoration-color: #00af00\">18,496</span> │\n",
              "├─────────────────────────────────┼────────────────────────┼───────────────┤\n",
              "│ max_pooling2d_9 (<span style=\"color: #0087ff; text-decoration-color: #0087ff\">MaxPooling2D</span>)  │ (<span style=\"color: #00d7ff; text-decoration-color: #00d7ff\">None</span>, <span style=\"color: #00af00; text-decoration-color: #00af00\">21</span>, <span style=\"color: #00af00; text-decoration-color: #00af00\">21</span>, <span style=\"color: #00af00; text-decoration-color: #00af00\">64</span>)     │             <span style=\"color: #00af00; text-decoration-color: #00af00\">0</span> │\n",
              "├─────────────────────────────────┼────────────────────────┼───────────────┤\n",
              "│ flatten_4 (<span style=\"color: #0087ff; text-decoration-color: #0087ff\">Flatten</span>)             │ (<span style=\"color: #00d7ff; text-decoration-color: #00d7ff\">None</span>, <span style=\"color: #00af00; text-decoration-color: #00af00\">28224</span>)          │             <span style=\"color: #00af00; text-decoration-color: #00af00\">0</span> │\n",
              "├─────────────────────────────────┼────────────────────────┼───────────────┤\n",
              "│ dense_8 (<span style=\"color: #0087ff; text-decoration-color: #0087ff\">Dense</span>)                 │ (<span style=\"color: #00d7ff; text-decoration-color: #00d7ff\">None</span>, <span style=\"color: #00af00; text-decoration-color: #00af00\">64</span>)             │     <span style=\"color: #00af00; text-decoration-color: #00af00\">1,806,400</span> │\n",
              "├─────────────────────────────────┼────────────────────────┼───────────────┤\n",
              "│ dense_9 (<span style=\"color: #0087ff; text-decoration-color: #0087ff\">Dense</span>)                 │ (<span style=\"color: #00d7ff; text-decoration-color: #00d7ff\">None</span>, <span style=\"color: #00af00; text-decoration-color: #00af00\">1</span>)              │            <span style=\"color: #00af00; text-decoration-color: #00af00\">65</span> │\n",
              "└─────────────────────────────────┴────────────────────────┴───────────────┘\n",
              "</pre>\n"
            ],
            "text/plain": [
              "┏━━━━━━━━━━━━━━━━━━━━━━━━━━━━━━━━━┳━━━━━━━━━━━━━━━━━━━━━━━━┳━━━━━━━━━━━━━━━┓\n",
              "┃\u001b[1m \u001b[0m\u001b[1mLayer (type)                   \u001b[0m\u001b[1m \u001b[0m┃\u001b[1m \u001b[0m\u001b[1mOutput Shape          \u001b[0m\u001b[1m \u001b[0m┃\u001b[1m \u001b[0m\u001b[1m      Param #\u001b[0m\u001b[1m \u001b[0m┃\n",
              "┡━━━━━━━━━━━━━━━━━━━━━━━━━━━━━━━━━╇━━━━━━━━━━━━━━━━━━━━━━━━╇━━━━━━━━━━━━━━━┩\n",
              "│ input_layer_4 (\u001b[38;5;33mInputLayer\u001b[0m)      │ (\u001b[38;5;45mNone\u001b[0m, \u001b[38;5;34m84\u001b[0m, \u001b[38;5;34m84\u001b[0m, \u001b[38;5;34m3\u001b[0m)      │             \u001b[38;5;34m0\u001b[0m │\n",
              "├─────────────────────────────────┼────────────────────────┼───────────────┤\n",
              "│ rescaling_4 (\u001b[38;5;33mRescaling\u001b[0m)         │ (\u001b[38;5;45mNone\u001b[0m, \u001b[38;5;34m84\u001b[0m, \u001b[38;5;34m84\u001b[0m, \u001b[38;5;34m3\u001b[0m)      │             \u001b[38;5;34m0\u001b[0m │\n",
              "├─────────────────────────────────┼────────────────────────┼───────────────┤\n",
              "│ conv2d_8 (\u001b[38;5;33mConv2D\u001b[0m)               │ (\u001b[38;5;45mNone\u001b[0m, \u001b[38;5;34m84\u001b[0m, \u001b[38;5;34m84\u001b[0m, \u001b[38;5;34m32\u001b[0m)     │           \u001b[38;5;34m896\u001b[0m │\n",
              "├─────────────────────────────────┼────────────────────────┼───────────────┤\n",
              "│ max_pooling2d_8 (\u001b[38;5;33mMaxPooling2D\u001b[0m)  │ (\u001b[38;5;45mNone\u001b[0m, \u001b[38;5;34m42\u001b[0m, \u001b[38;5;34m42\u001b[0m, \u001b[38;5;34m32\u001b[0m)     │             \u001b[38;5;34m0\u001b[0m │\n",
              "├─────────────────────────────────┼────────────────────────┼───────────────┤\n",
              "│ conv2d_9 (\u001b[38;5;33mConv2D\u001b[0m)               │ (\u001b[38;5;45mNone\u001b[0m, \u001b[38;5;34m42\u001b[0m, \u001b[38;5;34m42\u001b[0m, \u001b[38;5;34m64\u001b[0m)     │        \u001b[38;5;34m18,496\u001b[0m │\n",
              "├─────────────────────────────────┼────────────────────────┼───────────────┤\n",
              "│ max_pooling2d_9 (\u001b[38;5;33mMaxPooling2D\u001b[0m)  │ (\u001b[38;5;45mNone\u001b[0m, \u001b[38;5;34m21\u001b[0m, \u001b[38;5;34m21\u001b[0m, \u001b[38;5;34m64\u001b[0m)     │             \u001b[38;5;34m0\u001b[0m │\n",
              "├─────────────────────────────────┼────────────────────────┼───────────────┤\n",
              "│ flatten_4 (\u001b[38;5;33mFlatten\u001b[0m)             │ (\u001b[38;5;45mNone\u001b[0m, \u001b[38;5;34m28224\u001b[0m)          │             \u001b[38;5;34m0\u001b[0m │\n",
              "├─────────────────────────────────┼────────────────────────┼───────────────┤\n",
              "│ dense_8 (\u001b[38;5;33mDense\u001b[0m)                 │ (\u001b[38;5;45mNone\u001b[0m, \u001b[38;5;34m64\u001b[0m)             │     \u001b[38;5;34m1,806,400\u001b[0m │\n",
              "├─────────────────────────────────┼────────────────────────┼───────────────┤\n",
              "│ dense_9 (\u001b[38;5;33mDense\u001b[0m)                 │ (\u001b[38;5;45mNone\u001b[0m, \u001b[38;5;34m1\u001b[0m)              │            \u001b[38;5;34m65\u001b[0m │\n",
              "└─────────────────────────────────┴────────────────────────┴───────────────┘\n"
            ]
          },
          "metadata": {},
          "output_type": "display_data"
        },
        {
          "data": {
            "text/html": [
              "<pre style=\"white-space:pre;overflow-x:auto;line-height:normal;font-family:Menlo,'DejaVu Sans Mono',consolas,'Courier New',monospace\"><span style=\"font-weight: bold\"> Total params: </span><span style=\"color: #00af00; text-decoration-color: #00af00\">1,825,857</span> (6.97 MB)\n",
              "</pre>\n"
            ],
            "text/plain": [
              "\u001b[1m Total params: \u001b[0m\u001b[38;5;34m1,825,857\u001b[0m (6.97 MB)\n"
            ]
          },
          "metadata": {},
          "output_type": "display_data"
        },
        {
          "data": {
            "text/html": [
              "<pre style=\"white-space:pre;overflow-x:auto;line-height:normal;font-family:Menlo,'DejaVu Sans Mono',consolas,'Courier New',monospace\"><span style=\"font-weight: bold\"> Trainable params: </span><span style=\"color: #00af00; text-decoration-color: #00af00\">1,825,857</span> (6.97 MB)\n",
              "</pre>\n"
            ],
            "text/plain": [
              "\u001b[1m Trainable params: \u001b[0m\u001b[38;5;34m1,825,857\u001b[0m (6.97 MB)\n"
            ]
          },
          "metadata": {},
          "output_type": "display_data"
        },
        {
          "data": {
            "text/html": [
              "<pre style=\"white-space:pre;overflow-x:auto;line-height:normal;font-family:Menlo,'DejaVu Sans Mono',consolas,'Courier New',monospace\"><span style=\"font-weight: bold\"> Non-trainable params: </span><span style=\"color: #00af00; text-decoration-color: #00af00\">0</span> (0.00 B)\n",
              "</pre>\n"
            ],
            "text/plain": [
              "\u001b[1m Non-trainable params: \u001b[0m\u001b[38;5;34m0\u001b[0m (0.00 B)\n"
            ]
          },
          "metadata": {},
          "output_type": "display_data"
        }
      ],
      "source": [
        "# 4) Build baseline CNN (with in-model rescaling; no augmentation for this baseline)\n",
        "def build_baseline(input_shape=(84,84,3)):\n",
        "    inputs = layers.Input(shape=input_shape)\n",
        "\n",
        "    x = layers.Rescaling(1./255)(inputs)\n",
        "\n",
        "    x = layers.Conv2D(32, 3, padding=\"same\", activation=\"relu\")(x)\n",
        "    x = layers.MaxPooling2D()(x)\n",
        "    x = layers.Conv2D(64, 3, padding=\"same\", activation=\"relu\")(x)\n",
        "    x = layers.MaxPooling2D()(x)\n",
        "    x = layers.Flatten()(x)\n",
        "    x = layers.Dense(64, activation=\"relu\")(x)\n",
        "    outputs = layers.Dense(1, activation=\"sigmoid\")(x)\n",
        "    return models.Model(inputs, outputs)\n",
        "\n",
        "model = build_baseline(input_shape=(IMG_SIZE[0], IMG_SIZE[1], 3))\n",
        "model.compile(\n",
        "    optimizer=optimizers.Adam(),\n",
        "    loss=\"binary_crossentropy\",\n",
        "    metrics=[\"accuracy\", tf.keras.metrics.AUC(name=\"auc\")]\n",
        ")\n",
        "model.summary()"
      ]
    },
    {
      "cell_type": "markdown",
      "metadata": {
        "id": "1980693e"
      },
      "source": [
        "## Incremental Experiments to Improve CNN Accuracy\n",
        "\n",
        "Here are seven incremental experiments to improve the baseline CNN model's accuracy. Each experiment builds upon the previous one.\n",
        "\n",
        "### Experiment 1: Increase Model Capacity (More Filters)\n",
        "\n",
        "**Name:** E1_MoreFilters\n",
        "\n",
        "**Change:** Increase the number of filters in the convolutional layers.\n",
        "\n",
        "**Reasoning:** More filters allow the model to learn a richer set of features from the images.\n",
        "\n",
        "**Code Snippet:**"
      ]
    },
    {
      "cell_type": "code",
      "execution_count": 13,
      "metadata": {
        "id": "ced1d654"
      },
      "outputs": [
        {
          "name": "stdout",
          "output_type": "stream",
          "text": [
            "Epoch 1/8\n",
            "\n",
            "Epoch 1: val_accuracy improved from None to 0.95039, saving model to C:\\Users\\ADVANCED TECH\\Downloads\\Group1-Malaria-Diagnosis-CNN\\experiments\\E2_AddConvLayer\\best.weights.h5\n",
            "\n",
            "Epoch 1: val_accuracy improved from None to 0.95039, saving model to C:\\Users\\ADVANCED TECH\\Downloads\\Group1-Malaria-Diagnosis-CNN\\experiments\\E2_AddConvLayer\\best.weights.h5\n",
            "4823/4823 - 871s - 180ms/step - accuracy: 0.7253 - auc: 0.8372 - loss: 0.4681 - val_accuracy: 0.9504 - val_auc: 0.9836 - val_loss: 0.1730\n",
            "Epoch 2/8\n",
            "4823/4823 - 871s - 180ms/step - accuracy: 0.7253 - auc: 0.8372 - loss: 0.4681 - val_accuracy: 0.9504 - val_auc: 0.9836 - val_loss: 0.1730\n",
            "Epoch 2/8\n",
            "\n",
            "Epoch 2: val_accuracy improved from 0.95039 to 0.95668, saving model to C:\\Users\\ADVANCED TECH\\Downloads\\Group1-Malaria-Diagnosis-CNN\\experiments\\E2_AddConvLayer\\best.weights.h5\n",
            "\n",
            "Epoch 2: val_accuracy improved from 0.95039 to 0.95668, saving model to C:\\Users\\ADVANCED TECH\\Downloads\\Group1-Malaria-Diagnosis-CNN\\experiments\\E2_AddConvLayer\\best.weights.h5\n",
            "4823/4823 - 828s - 172ms/step - accuracy: 0.9506 - auc: 0.9811 - loss: 0.1592 - val_accuracy: 0.9567 - val_auc: 0.9854 - val_loss: 0.1698\n",
            "Epoch 3/8\n",
            "4823/4823 - 828s - 172ms/step - accuracy: 0.9506 - auc: 0.9811 - loss: 0.1592 - val_accuracy: 0.9567 - val_auc: 0.9854 - val_loss: 0.1698\n",
            "Epoch 3/8\n",
            "\n",
            "Epoch 3: val_accuracy did not improve from 0.95668\n",
            "4823/4823 - 751s - 156ms/step - accuracy: 0.9548 - auc: 0.9846 - loss: 0.1433 - val_accuracy: 0.9567 - val_auc: 0.9886 - val_loss: 0.1313\n",
            "\n",
            "Epoch 3: val_accuracy did not improve from 0.95668\n",
            "4823/4823 - 751s - 156ms/step - accuracy: 0.9548 - auc: 0.9846 - loss: 0.1433 - val_accuracy: 0.9567 - val_auc: 0.9886 - val_loss: 0.1313\n",
            "Epoch 4/8\n",
            "Epoch 4/8\n",
            "\n",
            "Epoch 4: val_accuracy did not improve from 0.95668\n",
            "4823/4823 - 914s - 190ms/step - accuracy: 0.9592 - auc: 0.9886 - loss: 0.1240 - val_accuracy: 0.9557 - val_auc: 0.9880 - val_loss: 0.1389\n",
            "\n",
            "Epoch 4: val_accuracy did not improve from 0.95668\n",
            "4823/4823 - 914s - 190ms/step - accuracy: 0.9592 - auc: 0.9886 - loss: 0.1240 - val_accuracy: 0.9557 - val_auc: 0.9880 - val_loss: 0.1389\n",
            "Epoch 5/8\n",
            "Epoch 5/8\n",
            "\n",
            "Epoch 5: val_accuracy improved from 0.95668 to 0.95765, saving model to C:\\Users\\ADVANCED TECH\\Downloads\\Group1-Malaria-Diagnosis-CNN\\experiments\\E2_AddConvLayer\\best.weights.h5\n",
            "\n",
            "Epoch 5: val_accuracy improved from 0.95668 to 0.95765, saving model to C:\\Users\\ADVANCED TECH\\Downloads\\Group1-Malaria-Diagnosis-CNN\\experiments\\E2_AddConvLayer\\best.weights.h5\n",
            "4823/4823 - 691s - 143ms/step - accuracy: 0.9612 - auc: 0.9902 - loss: 0.1144 - val_accuracy: 0.9576 - val_auc: 0.9886 - val_loss: 0.1380\n",
            "Epoch 6/8\n",
            "4823/4823 - 691s - 143ms/step - accuracy: 0.9612 - auc: 0.9902 - loss: 0.1144 - val_accuracy: 0.9576 - val_auc: 0.9886 - val_loss: 0.1380\n",
            "Epoch 6/8\n",
            "\n",
            "Epoch 6: val_accuracy improved from 0.95765 to 0.95789, saving model to C:\\Users\\ADVANCED TECH\\Downloads\\Group1-Malaria-Diagnosis-CNN\\experiments\\E2_AddConvLayer\\best.weights.h5\n",
            "\n",
            "Epoch 6: val_accuracy improved from 0.95765 to 0.95789, saving model to C:\\Users\\ADVANCED TECH\\Downloads\\Group1-Malaria-Diagnosis-CNN\\experiments\\E2_AddConvLayer\\best.weights.h5\n",
            "4823/4823 - 684s - 142ms/step - accuracy: 0.9650 - auc: 0.9927 - loss: 0.0996 - val_accuracy: 0.9579 - val_auc: 0.9864 - val_loss: 0.1472\n",
            "Epoch 7/8\n",
            "4823/4823 - 684s - 142ms/step - accuracy: 0.9650 - auc: 0.9927 - loss: 0.0996 - val_accuracy: 0.9579 - val_auc: 0.9864 - val_loss: 0.1472\n",
            "Epoch 7/8\n",
            "\n",
            "Epoch 7: val_accuracy did not improve from 0.95789\n",
            "4823/4823 - 703s - 146ms/step - accuracy: 0.9673 - auc: 0.9942 - loss: 0.0878 - val_accuracy: 0.9530 - val_auc: 0.9871 - val_loss: 0.1460\n",
            "Epoch 8/8\n",
            "\n",
            "Epoch 7: val_accuracy did not improve from 0.95789\n",
            "4823/4823 - 703s - 146ms/step - accuracy: 0.9673 - auc: 0.9942 - loss: 0.0878 - val_accuracy: 0.9530 - val_auc: 0.9871 - val_loss: 0.1460\n",
            "Epoch 8/8\n",
            "\n",
            "Epoch 8: val_accuracy did not improve from 0.95789\n",
            "4823/4823 - 771s - 160ms/step - accuracy: 0.9725 - auc: 0.9953 - loss: 0.0774 - val_accuracy: 0.9530 - val_auc: 0.9837 - val_loss: 0.1673\n",
            "Restoring model weights from the end of the best epoch: 6.\n",
            "\n",
            "Epoch 8: val_accuracy did not improve from 0.95789\n",
            "4823/4823 - 771s - 160ms/step - accuracy: 0.9725 - auc: 0.9953 - loss: 0.0774 - val_accuracy: 0.9530 - val_auc: 0.9837 - val_loss: 0.1673\n",
            "Restoring model weights from the end of the best epoch: 6.\n",
            "\n",
            "Test (E2) — Loss: 0.1434 | Acc: 0.9589 | AUC: 0.9877\n",
            "Saved weights & logs to: C:\\Users\\ADVANCED TECH\\Downloads\\Group1-Malaria-Diagnosis-CNN\\experiments\\E2_AddConvLayer\n",
            "\n",
            "Test (E2) — Loss: 0.1434 | Acc: 0.9589 | AUC: 0.9877\n",
            "Saved weights & logs to: C:\\Users\\ADVANCED TECH\\Downloads\\Group1-Malaria-Diagnosis-CNN\\experiments\\E2_AddConvLayer\n"
          ]
        }
      ],
      "source": [
        "def build_E2_AddConvLayer(input_shape=(84,84,3)):\n",
        "    inputs = layers.Input(shape=input_shape)\n",
        "    x = layers.Rescaling(1./255)(inputs)\n",
        "    x = layers.Conv2D(64, 3, padding=\"same\", activation=\"relu\")(x)\n",
        "    x = layers.MaxPooling2D()(x)\n",
        "    x = layers.Conv2D(128, 3, padding=\"same\", activation=\"relu\")(x)\n",
        "    x = layers.MaxPooling2D()(x)\n",
        "    x = layers.Conv2D(256, 3, padding=\"same\", activation=\"relu\")(x) # Added conv layer\n",
        "    x = layers.MaxPooling2D()(x)\n",
        "    x = layers.Flatten()(x)\n",
        "    x = layers.Dense(128, activation=\"relu\")(x)\n",
        "    outputs = layers.Dense(1, activation=\"sigmoid\")(x)\n",
        "    return models.Model(inputs, outputs)\n",
        "\n",
        "model_E2 = build_E2_AddConvLayer(input_shape=(IMG_SIZE[0], IMG_SIZE[1], 3))\n",
        "model_E2.compile(optimizer=optimizers.Adam(), loss=\"binary_crossentropy\", metrics=[\"accuracy\", tf.keras.metrics.AUC(name=\"auc\")])\n",
        "\n",
        "# Train model E2\n",
        "exp_name_E2 = \"E2_AddConvLayer\"\n",
        "out_dir_E2 = EXP_DIR/exp_name_E2\n",
        "out_dir_E2.mkdir(parents=True, exist_ok=True)\n",
        "\n",
        "ckpt_E2 = callbacks.ModelCheckpoint(\n",
        "    filepath=str(out_dir_E2/\"best.weights.h5\"),\n",
        "    monitor=\"val_accuracy\",\n",
        "    save_best_only=True,\n",
        "    save_weights_only=True,\n",
        "    mode=\"max\",\n",
        "    verbose=1\n",
        ")\n",
        "early_E2 = callbacks.EarlyStopping(\n",
        "    monitor=\"val_accuracy\",\n",
        "    patience=3,\n",
        "    mode=\"max\",\n",
        "    restore_best_weights=True,\n",
        "    verbose=1\n",
        ")\n",
        "\n",
        "history_E2 = model_E2.fit(\n",
        "    train_ds,\n",
        "    validation_data=ds_val,\n",
        "    epochs=8,\n",
        "    callbacks=[ckpt_E2, early_E2],\n",
        "    verbose=2\n",
        ")\n",
        "\n",
        "# Evaluate on test\n",
        "test_loss_E2, test_acc_E2, test_auc_E2 = model_E2.evaluate(ds_test, verbose=0)\n",
        "print(f\"\\nTest (E2) — Loss: {test_loss_E2:.4f} | Acc: {test_acc_E2:.4f} | AUC: {test_auc_E2:.4f}\")\n",
        "\n",
        "# Save minimal metadata\n",
        "with open(out_dir_E2/\"config.json\", \"w\") as f:\n",
        "    json.dump({\n",
        "        \"img_size\": IMG_SIZE, \"batch\": BATCH, \"epochs\": 8,\n",
        "        \"optimizer\": \"adam\", \"lr\": 1e-3, \"dropout\": \"none\", \"layers\": \"added conv\",\n",
        "        \"loader\": \"image_dataset_from_directory\", \"split\": \"70/15/15 via 70/30 then take/skip\"\n",
        "    }, f, indent=2)\n",
        "with open(out_dir_E2/\"test_results.json\", \"w\") as f:\n",
        "    json.dump({\"loss\": float(test_loss_E2), \"accuracy\": float(test_acc_E2), \"auc\": float(test_auc_E2)}, f, indent=2)\n",
        "\n",
        "print(f\"Saved weights & logs to: {out_dir_E2}\")"
      ]
    },
    {
      "cell_type": "code",
      "execution_count": null,
      "metadata": {
        "id": "41702e4b"
      },
      "outputs": [
        {
          "name": "stdout",
          "output_type": "stream",
          "text": [
            "Epoch 1/8\n",
            "\n",
            "Epoch 1: val_accuracy improved from None to 0.92667, saving model to C:\\Users\\ADVANCED TECH\\Downloads\\Group1-Malaria-Diagnosis-CNN\\experiments\\E3_Dropout\\best.weights.h5\n",
            "\n",
            "Epoch 1: val_accuracy improved from None to 0.92667, saving model to C:\\Users\\ADVANCED TECH\\Downloads\\Group1-Malaria-Diagnosis-CNN\\experiments\\E3_Dropout\\best.weights.h5\n",
            "4823/4823 - 805s - 167ms/step - accuracy: 0.6734 - auc: 0.7727 - loss: 0.5387 - val_accuracy: 0.9267 - val_auc: 0.9675 - val_loss: 0.2299\n",
            "Epoch 2/8\n",
            "4823/4823 - 805s - 167ms/step - accuracy: 0.6734 - auc: 0.7727 - loss: 0.5387 - val_accuracy: 0.9267 - val_auc: 0.9675 - val_loss: 0.2299\n",
            "Epoch 2/8\n",
            "\n",
            "Epoch 2: val_accuracy improved from 0.92667 to 0.95305, saving model to C:\\Users\\ADVANCED TECH\\Downloads\\Group1-Malaria-Diagnosis-CNN\\experiments\\E3_Dropout\\best.weights.h5\n",
            "\n",
            "Epoch 2: val_accuracy improved from 0.92667 to 0.95305, saving model to C:\\Users\\ADVANCED TECH\\Downloads\\Group1-Malaria-Diagnosis-CNN\\experiments\\E3_Dropout\\best.weights.h5\n",
            "4823/4823 - 806s - 167ms/step - accuracy: 0.9499 - auc: 0.9791 - loss: 0.1651 - val_accuracy: 0.9530 - val_auc: 0.9869 - val_loss: 0.1484\n",
            "Epoch 3/8\n",
            "4823/4823 - 806s - 167ms/step - accuracy: 0.9499 - auc: 0.9791 - loss: 0.1651 - val_accuracy: 0.9530 - val_auc: 0.9869 - val_loss: 0.1484\n",
            "Epoch 3/8\n",
            "\n",
            "Epoch 3: val_accuracy did not improve from 0.95305\n",
            "4823/4823 - 814s - 169ms/step - accuracy: 0.9540 - auc: 0.9817 - loss: 0.1527 - val_accuracy: 0.9468 - val_auc: 0.9867 - val_loss: 0.1568\n",
            "\n",
            "Epoch 3: val_accuracy did not improve from 0.95305\n",
            "4823/4823 - 814s - 169ms/step - accuracy: 0.9540 - auc: 0.9817 - loss: 0.1527 - val_accuracy: 0.9468 - val_auc: 0.9867 - val_loss: 0.1568\n",
            "Epoch 4/8\n",
            "Epoch 4/8\n",
            "\n",
            "Epoch 4: val_accuracy improved from 0.95305 to 0.95571, saving model to C:\\Users\\ADVANCED TECH\\Downloads\\Group1-Malaria-Diagnosis-CNN\\experiments\\E3_Dropout\\best.weights.h5\n",
            "\n",
            "Epoch 4: val_accuracy improved from 0.95305 to 0.95571, saving model to C:\\Users\\ADVANCED TECH\\Downloads\\Group1-Malaria-Diagnosis-CNN\\experiments\\E3_Dropout\\best.weights.h5\n",
            "4823/4823 - 789s - 164ms/step - accuracy: 0.9544 - auc: 0.9845 - loss: 0.1420 - val_accuracy: 0.9557 - val_auc: 0.9883 - val_loss: 0.1324\n",
            "Epoch 5/8\n",
            "4823/4823 - 789s - 164ms/step - accuracy: 0.9544 - auc: 0.9845 - loss: 0.1420 - val_accuracy: 0.9557 - val_auc: 0.9883 - val_loss: 0.1324\n",
            "Epoch 5/8\n",
            "\n",
            "Epoch 5: val_accuracy did not improve from 0.95571\n",
            "\n",
            "Epoch 5: val_accuracy did not improve from 0.95571\n",
            "4823/4823 - 806s - 167ms/step - accuracy: 0.9542 - auc: 0.9850 - loss: 0.1390 - val_accuracy: 0.9543 - val_auc: 0.9798 - val_loss: 0.2193\n",
            "4823/4823 - 806s - 167ms/step - accuracy: 0.9542 - auc: 0.9850 - loss: 0.1390 - val_accuracy: 0.9543 - val_auc: 0.9798 - val_loss: 0.2193\n",
            "Epoch 6/8\n",
            "Epoch 6/8\n",
            "\n",
            "Epoch 6: val_accuracy improved from 0.95571 to 0.95595, saving model to C:\\Users\\ADVANCED TECH\\Downloads\\Group1-Malaria-Diagnosis-CNN\\experiments\\E3_Dropout\\best.weights.h5\n",
            "\n",
            "Epoch 6: val_accuracy improved from 0.95571 to 0.95595, saving model to C:\\Users\\ADVANCED TECH\\Downloads\\Group1-Malaria-Diagnosis-CNN\\experiments\\E3_Dropout\\best.weights.h5\n",
            "4823/4823 - 823s - 171ms/step - accuracy: 0.9571 - auc: 0.9869 - loss: 0.1301 - val_accuracy: 0.9560 - val_auc: 0.9896 - val_loss: 0.1274\n",
            "Epoch 7/8\n",
            "4823/4823 - 823s - 171ms/step - accuracy: 0.9571 - auc: 0.9869 - loss: 0.1301 - val_accuracy: 0.9560 - val_auc: 0.9896 - val_loss: 0.1274\n",
            "Epoch 7/8\n",
            "\n",
            "Epoch 7: val_accuracy improved from 0.95595 to 0.95789, saving model to C:\\Users\\ADVANCED TECH\\Downloads\\Group1-Malaria-Diagnosis-CNN\\experiments\\E3_Dropout\\best.weights.h5\n",
            "\n",
            "Epoch 7: val_accuracy improved from 0.95595 to 0.95789, saving model to C:\\Users\\ADVANCED TECH\\Downloads\\Group1-Malaria-Diagnosis-CNN\\experiments\\E3_Dropout\\best.weights.h5\n",
            "4823/4823 - 801s - 166ms/step - accuracy: 0.9578 - auc: 0.9867 - loss: 0.1319 - val_accuracy: 0.9579 - val_auc: 0.9882 - val_loss: 0.1342\n",
            "Epoch 8/8\n",
            "4823/4823 - 801s - 166ms/step - accuracy: 0.9578 - auc: 0.9867 - loss: 0.1319 - val_accuracy: 0.9579 - val_auc: 0.9882 - val_loss: 0.1342\n",
            "Epoch 8/8\n"
          ]
        }
      ],
      "source": [
        "def build_E3_Dropout(input_shape=(84,84,3)):\n",
        "    inputs = layers.Input(shape=input_shape)\n",
        "    x = layers.Rescaling(1./255)(inputs)\n",
        "    x = layers.Conv2D(64, 3, padding=\"same\", activation=\"relu\")(x)\n",
        "    x = layers.MaxPooling2D()(x)\n",
        "    x = layers.Conv2D(128, 3, padding=\"same\", activation=\"relu\")(x)\n",
        "    x = layers.MaxPooling2D()(x)\n",
        "    x = layers.Conv2D(256, 3, padding=\"same\", activation=\"relu\")(x)\n",
        "    x = layers.MaxPooling2D()(x)\n",
        "    x = layers.Flatten()(x)\n",
        "    x = layers.Dense(128, activation=\"relu\")(x)\n",
        "    x = layers.Dropout(0.5)(x) # Added dropout\n",
        "    outputs = layers.Dense(1, activation=\"sigmoid\")(x)\n",
        "    return models.Model(inputs, outputs)\n",
        "\n",
        "model_E3 = build_E3_Dropout(input_shape=(IMG_SIZE[0], IMG_SIZE[1], 3))\n",
        "model_E3.compile(optimizer=optimizers.Adam(), loss=\"binary_crossentropy\", metrics=[\"accuracy\", tf.keras.metrics.AUC(name=\"auc\")])\n",
        "\n",
        "# Train model E3\n",
        "exp_name_E3 = \"E3_Dropout\"\n",
        "out_dir_E3 = EXP_DIR/exp_name_E3\n",
        "out_dir_E3.mkdir(parents=True, exist_ok=True)\n",
        "\n",
        "ckpt_E3 = callbacks.ModelCheckpoint(\n",
        "    filepath=str(out_dir_E3/\"best.weights.h5\"),\n",
        "    monitor=\"val_accuracy\",\n",
        "    save_best_only=True,\n",
        "    save_weights_only=True,\n",
        "    mode=\"max\",\n",
        "    verbose=1\n",
        ")\n",
        "early_E3 = callbacks.EarlyStopping(\n",
        "    monitor=\"val_accuracy\",\n",
        "    patience=3,\n",
        "    mode=\"max\",\n",
        "    restore_best_weights=True,\n",
        "    verbose=1\n",
        ")\n",
        "\n",
        "history_E3 = model_E3.fit(\n",
        "    train_ds,\n",
        "    validation_data=ds_val,\n",
        "    epochs=8,\n",
        "    callbacks=[ckpt_E3, early_E3],\n",
        "    verbose=2\n",
        ")\n",
        "\n",
        "# Evaluate on test\n",
        "test_loss_E3, test_acc_E3, test_auc_E3 = model_E3.evaluate(ds_test, verbose=0)\n",
        "print(f\"\\nTest (E3) — Loss: {test_loss_E3:.4f} | Acc: {test_acc_E3:.4f} | AUC: {test_auc_E3:.4f}\")\n",
        "\n",
        "# Save minimal metadata\n",
        "with open(out_dir_E3/\"config.json\", \"w\") as f:\n",
        "    json.dump({\n",
        "        \"img_size\": IMG_SIZE, \"batch\": BATCH, \"epochs\": 8,\n",
        "        \"optimizer\": \"adam\", \"lr\": 1e-3, \"dropout\": \"added\", \"layers\": \"added conv\",\n",
        "        \"loader\": \"image_dataset_from_directory\", \"split\": \"70/15/15 via 70/30 then take/skip\"\n",
        "    }, f, indent=2)\n",
        "with open(out_dir_E3/\"test_results.json\", \"w\") as f:\n",
        "    json.dump({\"loss\": float(test_loss_E3), \"accuracy\": float(test_acc_E3), \"auc\": float(test_auc_E3)}, f, indent=2)\n",
        "\n",
        "print(f\"Saved weights & logs to: {out_dir_E3}\")"
      ]
    }
  ],
  "metadata": {
    "accelerator": "GPU",
    "colab": {
      "gpuType": "T4",
      "provenance": []
    },
    "hide_input": false,
    "kernelspec": {
      "display_name": "Python 3",
      "name": "python3"
    },
    "language_info": {
      "codemirror_mode": {
        "name": "ipython",
        "version": 3
      },
      "file_extension": ".py",
      "mimetype": "text/x-python",
      "name": "python",
      "nbconvert_exporter": "python",
      "pygments_lexer": "ipython3",
      "version": "3.13.3"
    },
    "toc": {
      "base_numbering": 1,
      "nav_menu": {},
      "number_sections": true,
      "sideBar": true,
      "skip_h1_title": false,
      "title_cell": "Table of Contents",
      "title_sidebar": "Contents",
      "toc_cell": false,
      "toc_position": {},
      "toc_section_display": true,
      "toc_window_display": false
    }
  },
  "nbformat": 4,
  "nbformat_minor": 0
}
